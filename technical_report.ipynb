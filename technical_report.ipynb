{
  "nbformat": 4,
  "nbformat_minor": 0,
  "metadata": {
    "colab": {
      "name": "technical-report.ipynb",
      "provenance": [],
      "include_colab_link": true
    },
    "kernelspec": {
      "name": "python3",
      "display_name": "Python 3"
    }
  },
  "cells": [
    {
      "cell_type": "markdown",
      "metadata": {
        "id": "view-in-github",
        "colab_type": "text"
      },
      "source": [
        "<a href=\"https://colab.research.google.com/github/16sl75/business-analytics-project_2021_08_18/blob/main/technical_report.ipynb\" target=\"_parent\"><img src=\"https://colab.research.google.com/assets/colab-badge.svg\" alt=\"Open In Colab\"/></a>"
      ]
    },
    {
      "cell_type": "markdown",
      "metadata": {
        "id": "jJeuRw6xEvlm"
      },
      "source": [
        "## BI/Data Science Resources for Low Code/No Code"
      ]
    },
    {
      "cell_type": "markdown",
      "metadata": {
        "id": "HiPJnDQaE2QX"
      },
      "source": [
        "#### Apple\n",
        "\n",
        "* [Create ML](https://developer.apple.com/documentation/createml)\n",
        "\n",
        "\n",
        "https://docs-assets.developer.apple.com/published/4bd09c3420/b789d462-92c2-4d26-9479-d5288eef2438.png"
      ]
    },
    {
      "cell_type": "markdown",
      "metadata": {
        "id": "6JtjxltCGJ4b"
      },
      "source": [
        "#### GCP (Google)\n",
        "\n",
        "\n",
        "AutoML Vision:  https://cloud.google.com/vision/automl/docs/tflite-android-tutorial?hl=en_US\n",
        "\n",
        "\n"
      ]
    },
    {
      "cell_type": "markdown",
      "metadata": {
        "id": "_uDGCGUECb1w"
      },
      "source": [
        "## Ingest"
      ]
    },
    {
      "cell_type": "code",
      "metadata": {
        "id": "9vR_o2jWCaF0",
        "colab": {
          "base_uri": "https://localhost:8080/",
          "height": 480
        },
        "outputId": "7fdf7aa4-d35d-42ea-9331-ab5260761e22"
      },
      "source": [
        "import pandas as pd\n",
        "df = pd.read_csv(\"https://raw.githubusercontent.com/noahgift/business-report/master/feature_importance.csv\")\n",
        "df.head(20)"
      ],
      "execution_count": null,
      "outputs": [
        {
          "output_type": "execute_result",
          "data": {
            "text/html": [
              "<div>\n",
              "<style scoped>\n",
              "    .dataframe tbody tr th:only-of-type {\n",
              "        vertical-align: middle;\n",
              "    }\n",
              "\n",
              "    .dataframe tbody tr th {\n",
              "        vertical-align: top;\n",
              "    }\n",
              "\n",
              "    .dataframe thead th {\n",
              "        text-align: right;\n",
              "    }\n",
              "</style>\n",
              "<table border=\"1\" class=\"dataframe\">\n",
              "  <thead>\n",
              "    <tr style=\"text-align: right;\">\n",
              "      <th></th>\n",
              "      <th>Column name</th>\n",
              "      <th>Feature importance</th>\n",
              "    </tr>\n",
              "  </thead>\n",
              "  <tbody>\n",
              "    <tr>\n",
              "      <th>0</th>\n",
              "      <td>capital_gain</td>\n",
              "      <td>0.159763</td>\n",
              "    </tr>\n",
              "    <tr>\n",
              "      <th>1</th>\n",
              "      <td>age</td>\n",
              "      <td>0.137266</td>\n",
              "    </tr>\n",
              "    <tr>\n",
              "      <th>2</th>\n",
              "      <td>marital_status</td>\n",
              "      <td>0.130454</td>\n",
              "    </tr>\n",
              "    <tr>\n",
              "      <th>3</th>\n",
              "      <td>education_num</td>\n",
              "      <td>0.088238</td>\n",
              "    </tr>\n",
              "    <tr>\n",
              "      <th>4</th>\n",
              "      <td>occupation</td>\n",
              "      <td>0.088033</td>\n",
              "    </tr>\n",
              "    <tr>\n",
              "      <th>5</th>\n",
              "      <td>relationship</td>\n",
              "      <td>0.079276</td>\n",
              "    </tr>\n",
              "    <tr>\n",
              "      <th>6</th>\n",
              "      <td>hours_per_week</td>\n",
              "      <td>0.074203</td>\n",
              "    </tr>\n",
              "    <tr>\n",
              "      <th>7</th>\n",
              "      <td>capital_loss</td>\n",
              "      <td>0.066141</td>\n",
              "    </tr>\n",
              "    <tr>\n",
              "      <th>8</th>\n",
              "      <td>education</td>\n",
              "      <td>0.053541</td>\n",
              "    </tr>\n",
              "    <tr>\n",
              "      <th>9</th>\n",
              "      <td>sex</td>\n",
              "      <td>0.048095</td>\n",
              "    </tr>\n",
              "    <tr>\n",
              "      <th>10</th>\n",
              "      <td>fnlwgt</td>\n",
              "      <td>0.035662</td>\n",
              "    </tr>\n",
              "    <tr>\n",
              "      <th>11</th>\n",
              "      <td>workclass</td>\n",
              "      <td>0.024903</td>\n",
              "    </tr>\n",
              "    <tr>\n",
              "      <th>12</th>\n",
              "      <td>native_country</td>\n",
              "      <td>0.007621</td>\n",
              "    </tr>\n",
              "    <tr>\n",
              "      <th>13</th>\n",
              "      <td>race</td>\n",
              "      <td>0.006804</td>\n",
              "    </tr>\n",
              "  </tbody>\n",
              "</table>\n",
              "</div>"
            ],
            "text/plain": [
              "       Column name  Feature importance\n",
              "0     capital_gain            0.159763\n",
              "1              age            0.137266\n",
              "2   marital_status            0.130454\n",
              "3    education_num            0.088238\n",
              "4       occupation            0.088033\n",
              "5     relationship            0.079276\n",
              "6   hours_per_week            0.074203\n",
              "7     capital_loss            0.066141\n",
              "8        education            0.053541\n",
              "9              sex            0.048095\n",
              "10          fnlwgt            0.035662\n",
              "11       workclass            0.024903\n",
              "12  native_country            0.007621\n",
              "13            race            0.006804"
            ]
          },
          "metadata": {
            "tags": []
          },
          "execution_count": 1
        }
      ]
    },
    {
      "cell_type": "markdown",
      "metadata": {
        "id": "wO7p8VEECfVY"
      },
      "source": [
        "## EDA\n",
        "\n",
        "\n",
        "These are some important features, you can see this raw data in the ingest section"
      ]
    },
    {
      "cell_type": "markdown",
      "metadata": {
        "id": "zFNmFd5CCghJ"
      },
      "source": [
        "![Screen Shot 2020-09-12 at 7 42 58 AM](https://user-images.githubusercontent.com/58792/92994814-9f842f00-f4cb-11ea-83aa-e7ab0a146e7a.png)\n"
      ]
    },
    {
      "cell_type": "markdown",
      "metadata": {
        "id": "udD_bDt9JT9p"
      },
      "source": [
        "This is a medical record\n",
        "\n",
        "![Screen Shot 2020-09-12 at 7 47 50 AM](https://user-images.githubusercontent.com/58792/92994875-51236000-f4cc-11ea-994f-285c48cd708f.png)\n"
      ]
    },
    {
      "cell_type": "markdown",
      "metadata": {
        "id": "glXtfwzhKMUu"
      },
      "source": [
        "Nike research\n",
        "\n",
        "![Screen Shot 2020-09-12 at 7 47 50 AM](https://user-images.githubusercontent.com/58792/92994944-e0307800-f4cc-11ea-912d-8794e214fe17.png)\n"
      ]
    },
    {
      "cell_type": "markdown",
      "metadata": {
        "id": "f6RmFxm3Knsl"
      },
      "source": [
        "CV research for Nike\n",
        "\n",
        "![Screen Shot 2020-09-12 at 7 55 08 AM](https://user-images.githubusercontent.com/58792/92994991-4e753a80-f4cd-11ea-9697-ab74922c614b.png)\n"
      ]
    },
    {
      "cell_type": "markdown",
      "metadata": {
        "id": "oGPIZvh5LW_x"
      },
      "source": [
        "![Screen Shot 2020-09-12 at 7 56 40 AM](https://user-images.githubusercontent.com/58792/92995027-95fbc680-f4cd-11ea-8623-515a232cc0cc.png)"
      ]
    },
    {
      "cell_type": "markdown",
      "metadata": {
        "id": "yUyNSeHjCglB"
      },
      "source": [
        "## Modeling"
      ]
    },
    {
      "cell_type": "markdown",
      "metadata": {
        "id": "gN4nVjStCiDW"
      },
      "source": [
        "![Screen Shot 2020-09-12 at 8 14 11 AM](https://user-images.githubusercontent.com/58792/92995259-fc81e400-f4cf-11ea-9ab3-a1e076297c4b.png)\n"
      ]
    },
    {
      "cell_type": "markdown",
      "metadata": {
        "id": "wh23idA-CiGT"
      },
      "source": [
        "## Conclusion"
      ]
    },
    {
      "cell_type": "markdown",
      "metadata": {
        "id": "dxfIDnswPbwZ"
      },
      "source": [
        "Our ML models show that:\n",
        "\n",
        "* Length of time as customer is a critical feature in deposits"
      ]
    },
    {
      "cell_type": "code",
      "metadata": {
        "id": "GArGEOdfCjmS"
      },
      "source": [
        ""
      ],
      "execution_count": null,
      "outputs": []
    }
  ]
}
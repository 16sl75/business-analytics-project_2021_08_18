{
  "nbformat": 4,
  "nbformat_minor": 0,
  "metadata": {
    "kernelspec": {
      "display_name": "Python 3",
      "language": "python",
      "name": "python3"
    },
    "language_info": {
      "codemirror_mode": {
        "name": "ipython",
        "version": 3
      },
      "file_extension": ".py",
      "mimetype": "text/x-python",
      "name": "python",
      "nbconvert_exporter": "python",
      "pygments_lexer": "ipython3",
      "version": "3.7.4"
    },
    "colab": {
      "name": "Hemingway.ipynb",
      "provenance": [],
      "include_colab_link": true
    }
  },
  "cells": [
    {
      "cell_type": "markdown",
      "metadata": {
        "id": "view-in-github",
        "colab_type": "text"
      },
      "source": [
        "<a href=\"https://colab.research.google.com/github/16sl75/business-analytics-project_2021_08_18/blob/main/Hemingway.ipynb\" target=\"_parent\"><img src=\"https://colab.research.google.com/assets/colab-badge.svg\" alt=\"Open In Colab\"/></a>"
      ]
    },
    {
      "cell_type": "markdown",
      "metadata": {
        "id": "_x7SkLQseij3"
      },
      "source": [
        "The Sun Also Rises (1926)\n",
        "http://gutenberg.ca/ebooks/hemingwaye-sunalsorises/hemingwaye-sunalsorises-00-h.html\n",
        "\n",
        "Men Without Women (1927) \n",
        "http://gutenberg.ca/ebooks/hemingwaye-menwithoutwomen/hemingwaye-menwithoutwomen-00-h.html\n",
        "\n",
        "Winner Take Nothing (1933)\n",
        "http://gutenberg.ca/ebooks/hemingwaye-winnertakenothing/hemingwaye-winnertakenothing-00-h.html\n",
        "\n",
        "Green Hills of Africa (1935)\n",
        "http://gutenberg.ca/ebooks/hemingwaye-greenhillsofafrica/hemingwaye-greenhillsofafrica-00-h.html\n",
        "\n",
        "Across the River and Into the Trees (1950) \n",
        "http://gutenberg.ca/ebooks/hemingwaye-acrosstheriver/hemingwaye-acrosstheriver-00-h.html\n",
        "\n",
        "The Old Man and the Sea (1952)\n",
        "http://gutenberg.ca/ebooks/hemingwaye-oldmanandthesea/hemingwaye-oldmanandthesea-00-h.html"
      ]
    },
    {
      "cell_type": "code",
      "metadata": {
        "id": "CGkejGWGeij_",
        "outputId": "3b17d091-1a0e-4ab5-aea9-6dc3cbefb4ed"
      },
      "source": [
        "# Web Scraping\n",
        "import requests\n",
        "from bs4 import BeautifulSoup\n",
        "\n",
        "# Preprocess\n",
        "import spacy\n",
        "import string\n",
        "import nltk\n",
        "from nltk.tokenize import word_tokenize\n",
        "from nltk.corpus import stopwords\n",
        "from nltk.stem import PorterStemmer\n",
        "nltk.download('punkt')\n",
        "stop_words = set(stopwords.words('english')) \n",
        "nltk.download('vader_lexicon')\n",
        "from nltk.sentiment.vader import SentimentIntensityAnalyzer\n",
        "\n",
        "import pandas as pd\n",
        "\n",
        "# EDA\n",
        "from sklearn.feature_extraction.text import CountVectorizer, TfidfVectorizer, TfidfTransformer\n",
        "from sklearn.cluster import MiniBatchKMeans, KMeans\n",
        "from sklearn.decomposition import PCA\n",
        "from sklearn.metrics import homogeneity_score\n",
        "from sklearn.metrics import silhouette_score\n",
        "\n",
        "# Viz\n",
        "import matplotlib.pyplot as plt\n",
        "import seaborn as sns"
      ],
      "execution_count": null,
      "outputs": [
        {
          "name": "stderr",
          "output_type": "stream",
          "text": [
            "[nltk_data] Downloading package punkt to\n",
            "[nltk_data]     /Users/koalachelsea/nltk_data...\n",
            "[nltk_data]   Package punkt is already up-to-date!\n",
            "[nltk_data] Downloading package vader_lexicon to\n",
            "[nltk_data]     /Users/koalachelsea/nltk_data...\n",
            "[nltk_data]   Package vader_lexicon is already up-to-date!\n"
          ]
        }
      ]
    },
    {
      "cell_type": "markdown",
      "metadata": {
        "id": "cQwk1Pi2eikD"
      },
      "source": [
        "# Web Scraping using BeautifulSoup"
      ]
    },
    {
      "cell_type": "code",
      "metadata": {
        "id": "Yc4iP_YeeikF",
        "outputId": "557db571-207f-4a8b-e351-b4c18d7beac1"
      },
      "source": [
        "url = 'http://gutenberg.ca/ebooks/hemingwaye-sunalsorises/hemingwaye-sunalsorises-00-h.html'\n",
        "res = requests.get(url)\n",
        "html_page = res.content\n",
        "\n",
        "soup = BeautifulSoup(html_page, 'html.parser')\n",
        "\n",
        "text = soup.find_all(text=True)\n",
        "\n",
        "set([t.parent.name for t in text])"
      ],
      "execution_count": null,
      "outputs": [
        {
          "data": {
            "text/plain": [
              "{'[document]',\n",
              " 'a',\n",
              " 'b',\n",
              " 'blockquote',\n",
              " 'body',\n",
              " 'div',\n",
              " 'h1',\n",
              " 'h2',\n",
              " 'h3',\n",
              " 'h4',\n",
              " 'head',\n",
              " 'html',\n",
              " 'i',\n",
              " 'p',\n",
              " 'small',\n",
              " 'title'}"
            ]
          },
          "execution_count": 2,
          "metadata": {},
          "output_type": "execute_result"
        }
      ]
    },
    {
      "cell_type": "code",
      "metadata": {
        "id": "beJyQkM0eikH"
      },
      "source": [
        "output = ''\n",
        "for t in text:\n",
        "    if t.parent.name in ['p']:\n",
        "        output += '{} '.format(t)\n",
        "#output"
      ],
      "execution_count": null,
      "outputs": []
    },
    {
      "cell_type": "code",
      "metadata": {
        "id": "31U3ugWNeikI"
      },
      "source": [
        "def Web_Scraping(url):\n",
        "    res = requests.get(url)\n",
        "    html_page = res.content\n",
        "    soup = BeautifulSoup(html_page, 'html.parser')\n",
        "    text = soup.find_all(text=True)\n",
        "    output = ''\n",
        "    for t in text:\n",
        "        if t.parent.name in ['p']:\n",
        "            output += '{} '.format(t)\n",
        "    output = output.strip().replace(\"\\n\", \" \").replace(\"\\r\", \" \").replace(\"\\r\\n\", \" \").replace(\"  \", \" \")\n",
        "    return output"
      ],
      "execution_count": null,
      "outputs": []
    },
    {
      "cell_type": "code",
      "metadata": {
        "id": "QFD8fM8ceikJ"
      },
      "source": [
        "url_1 = \"http://gutenberg.ca/ebooks/hemingwaye-sunalsorises/hemingwaye-sunalsorises-00-h.html\"\n",
        "book_1 = Web_Scraping(url_1)\n",
        "url_2 = \"http://gutenberg.ca/ebooks/hemingwaye-menwithoutwomen/hemingwaye-menwithoutwomen-00-h.html\"\n",
        "book_2 = Web_Scraping(url_2)\n",
        "url_3 = \"http://gutenberg.ca/ebooks/hemingwaye-winnertakenothing/hemingwaye-winnertakenothing-00-h.html\"\n",
        "book_3 = Web_Scraping(url_3)\n",
        "url_4 = \"http://gutenberg.ca/ebooks/hemingwaye-greenhillsofafrica/hemingwaye-greenhillsofafrica-00-h.html\"\n",
        "book_4 = Web_Scraping(url_4)\n",
        "url_5 = \"http://gutenberg.ca/ebooks/hemingwaye-acrosstheriver/hemingwaye-acrosstheriver-00-h.html\"\n",
        "book_5 = Web_Scraping(url_5)\n",
        "url_6 = \"http://gutenberg.ca/ebooks/hemingwaye-oldmanandthesea/hemingwaye-oldmanandthesea-00-h.html\"\n",
        "book_6 = Web_Scraping(url_6)"
      ],
      "execution_count": null,
      "outputs": []
    },
    {
      "cell_type": "markdown",
      "metadata": {
        "id": "Kge7KO_ZeikL"
      },
      "source": [
        "# Text Preprocessing\n",
        "\n",
        "## Ideas\n",
        "- Number of distinct words (vocabulary)\n",
        "- Lexical diversity = vocabulary/token ratio\n",
        "- Distribution of word lengths\n",
        "- Most frequent words\n",
        "- Number of n-gram word (bigrams, trigrams, 4-grams, etc.)\n",
        "- Usage of passive and active voice\n",
        "- Usage of parts of speech (nouns, verb, adverbs, adjectives, etc.)\n",
        "- Sentiment (positive, negative)"
      ]
    },
    {
      "cell_type": "markdown",
      "metadata": {
        "id": "XVjKknbIeikM"
      },
      "source": [
        "## Book Level"
      ]
    },
    {
      "cell_type": "code",
      "metadata": {
        "id": "7pjMuHp-eikN",
        "outputId": "fe525631-8907-4a23-ba78-eb9bce7e6805"
      },
      "source": [
        "all_books = {'book': ['book_1','book_2','book_3','book_4','book_5', 'book_6'],\n",
        "             'text': [book_1, book_2, book_3, book_4, book_5, book_6]}\n",
        "\n",
        "all_books = pd.DataFrame(all_books, columns = ['book', 'text'])\n",
        "all_books"
      ],
      "execution_count": null,
      "outputs": [
        {
          "data": {
            "text/html": [
              "<div>\n",
              "<style scoped>\n",
              "    .dataframe tbody tr th:only-of-type {\n",
              "        vertical-align: middle;\n",
              "    }\n",
              "\n",
              "    .dataframe tbody tr th {\n",
              "        vertical-align: top;\n",
              "    }\n",
              "\n",
              "    .dataframe thead th {\n",
              "        text-align: right;\n",
              "    }\n",
              "</style>\n",
              "<table border=\"1\" class=\"dataframe\">\n",
              "  <thead>\n",
              "    <tr style=\"text-align: right;\">\n",
              "      <th></th>\n",
              "      <th>book</th>\n",
              "      <th>text</th>\n",
              "    </tr>\n",
              "  </thead>\n",
              "  <tbody>\n",
              "    <tr>\n",
              "      <th>0</th>\n",
              "      <td>book_1</td>\n",
              "      <td>Robert Cohn was once middleweight boxing champ...</td>\n",
              "    </tr>\n",
              "    <tr>\n",
              "      <th>1</th>\n",
              "      <td>book_2</td>\n",
              "      <td>Manuel Garcia climbed the stairs to Don Miguel...</td>\n",
              "    </tr>\n",
              "    <tr>\n",
              "      <th>2</th>\n",
              "      <td>book_3</td>\n",
              "      <td>It wasn't about anything, something about maki...</td>\n",
              "    </tr>\n",
              "    <tr>\n",
              "      <th>3</th>\n",
              "      <td>book_4</td>\n",
              "      <td>IN OUR TIME FIESTA MEN WITHOUT WOMEN A FAREWEL...</td>\n",
              "    </tr>\n",
              "    <tr>\n",
              "      <th>4</th>\n",
              "      <td>book_5</td>\n",
              "      <td>ERNEST HEMINGWAY     READERS UNION — JONATHAN ...</td>\n",
              "    </tr>\n",
              "    <tr>\n",
              "      <th>5</th>\n",
              "      <td>book_6</td>\n",
              "      <td>ERNEST HEMINGWAY   CHARLES SCRIBNER'S SONS, NE...</td>\n",
              "    </tr>\n",
              "  </tbody>\n",
              "</table>\n",
              "</div>"
            ],
            "text/plain": [
              "     book                                               text\n",
              "0  book_1  Robert Cohn was once middleweight boxing champ...\n",
              "1  book_2  Manuel Garcia climbed the stairs to Don Miguel...\n",
              "2  book_3  It wasn't about anything, something about maki...\n",
              "3  book_4  IN OUR TIME FIESTA MEN WITHOUT WOMEN A FAREWEL...\n",
              "4  book_5  ERNEST HEMINGWAY     READERS UNION — JONATHAN ...\n",
              "5  book_6  ERNEST HEMINGWAY   CHARLES SCRIBNER'S SONS, NE..."
            ]
          },
          "execution_count": 6,
          "metadata": {},
          "output_type": "execute_result"
        }
      ]
    },
    {
      "cell_type": "code",
      "metadata": {
        "id": "vMvLsYfReikO"
      },
      "source": [
        "# Counting Vocabulary\n",
        "all_books['token'] = all_books['text'].apply(word_tokenize)\\\n",
        ".apply(lambda x: [item for item in x if item.isalpha()])\n",
        "\n",
        "all_books['token count'] = all_books['token'].apply(len)\n",
        "all_books['vocab count'] = all_books['token'].apply(set).apply(len)\n",
        "all_books['lexical_diversity'] = all_books['vocab count']/all_books['token count']"
      ],
      "execution_count": null,
      "outputs": []
    },
    {
      "cell_type": "code",
      "metadata": {
        "id": "OAwBQozheikP",
        "outputId": "392089f7-2551-48b5-d56e-f61ce198f718"
      },
      "source": [
        "sid = SentimentIntensityAnalyzer()\n",
        "all_books['scores sentiment'] = all_books['text'].apply(lambda x: sid.polarity_scores(x))\n",
        "all_books"
      ],
      "execution_count": null,
      "outputs": [
        {
          "data": {
            "text/html": [
              "<div>\n",
              "<style scoped>\n",
              "    .dataframe tbody tr th:only-of-type {\n",
              "        vertical-align: middle;\n",
              "    }\n",
              "\n",
              "    .dataframe tbody tr th {\n",
              "        vertical-align: top;\n",
              "    }\n",
              "\n",
              "    .dataframe thead th {\n",
              "        text-align: right;\n",
              "    }\n",
              "</style>\n",
              "<table border=\"1\" class=\"dataframe\">\n",
              "  <thead>\n",
              "    <tr style=\"text-align: right;\">\n",
              "      <th></th>\n",
              "      <th>book</th>\n",
              "      <th>text</th>\n",
              "      <th>token</th>\n",
              "      <th>token count</th>\n",
              "      <th>vocab count</th>\n",
              "      <th>lexical_diversity</th>\n",
              "      <th>scores sentiment</th>\n",
              "    </tr>\n",
              "  </thead>\n",
              "  <tbody>\n",
              "    <tr>\n",
              "      <th>0</th>\n",
              "      <td>book_1</td>\n",
              "      <td>Robert Cohn was once middleweight boxing champ...</td>\n",
              "      <td>[Robert, Cohn, was, once, middleweight, boxing...</td>\n",
              "      <td>66651</td>\n",
              "      <td>4990</td>\n",
              "      <td>0.074868</td>\n",
              "      <td>{'neg': 0.06, 'neu': 0.835, 'pos': 0.105, 'com...</td>\n",
              "    </tr>\n",
              "    <tr>\n",
              "      <th>1</th>\n",
              "      <td>book_2</td>\n",
              "      <td>Manuel Garcia climbed the stairs to Don Miguel...</td>\n",
              "      <td>[Manuel, Garcia, climbed, the, stairs, to, Don...</td>\n",
              "      <td>40027</td>\n",
              "      <td>3532</td>\n",
              "      <td>0.088240</td>\n",
              "      <td>{'neg': 0.058, 'neu': 0.858, 'pos': 0.084, 'co...</td>\n",
              "    </tr>\n",
              "    <tr>\n",
              "      <th>2</th>\n",
              "      <td>book_3</td>\n",
              "      <td>It wasn't about anything, something about maki...</td>\n",
              "      <td>[It, was, about, anything, something, about, m...</td>\n",
              "      <td>38212</td>\n",
              "      <td>4151</td>\n",
              "      <td>0.108631</td>\n",
              "      <td>{'neg': 0.089, 'neu': 0.823, 'pos': 0.088, 'co...</td>\n",
              "    </tr>\n",
              "    <tr>\n",
              "      <th>3</th>\n",
              "      <td>book_4</td>\n",
              "      <td>IN OUR TIME FIESTA MEN WITHOUT WOMEN A FAREWEL...</td>\n",
              "      <td>[IN, OUR, TIME, FIESTA, MEN, WITHOUT, WOMEN, A...</td>\n",
              "      <td>67260</td>\n",
              "      <td>5216</td>\n",
              "      <td>0.077550</td>\n",
              "      <td>{'neg': 0.085, 'neu': 0.816, 'pos': 0.099, 'co...</td>\n",
              "    </tr>\n",
              "    <tr>\n",
              "      <th>4</th>\n",
              "      <td>book_5</td>\n",
              "      <td>ERNEST HEMINGWAY     READERS UNION — JONATHAN ...</td>\n",
              "      <td>[ERNEST, HEMINGWAY, READERS, UNION, JONATHAN, ...</td>\n",
              "      <td>64263</td>\n",
              "      <td>5770</td>\n",
              "      <td>0.089787</td>\n",
              "      <td>{'neg': 0.08, 'neu': 0.782, 'pos': 0.138, 'com...</td>\n",
              "    </tr>\n",
              "    <tr>\n",
              "      <th>5</th>\n",
              "      <td>book_6</td>\n",
              "      <td>ERNEST HEMINGWAY   CHARLES SCRIBNER'S SONS, NE...</td>\n",
              "      <td>[ERNEST, HEMINGWAY, CHARLES, SCRIBNER, SONS, N...</td>\n",
              "      <td>26561</td>\n",
              "      <td>2634</td>\n",
              "      <td>0.099168</td>\n",
              "      <td>{'neg': 0.07, 'neu': 0.82, 'pos': 0.111, 'comp...</td>\n",
              "    </tr>\n",
              "  </tbody>\n",
              "</table>\n",
              "</div>"
            ],
            "text/plain": [
              "     book                                               text  \\\n",
              "0  book_1  Robert Cohn was once middleweight boxing champ...   \n",
              "1  book_2  Manuel Garcia climbed the stairs to Don Miguel...   \n",
              "2  book_3  It wasn't about anything, something about maki...   \n",
              "3  book_4  IN OUR TIME FIESTA MEN WITHOUT WOMEN A FAREWEL...   \n",
              "4  book_5  ERNEST HEMINGWAY     READERS UNION — JONATHAN ...   \n",
              "5  book_6  ERNEST HEMINGWAY   CHARLES SCRIBNER'S SONS, NE...   \n",
              "\n",
              "                                               token  token count  \\\n",
              "0  [Robert, Cohn, was, once, middleweight, boxing...        66651   \n",
              "1  [Manuel, Garcia, climbed, the, stairs, to, Don...        40027   \n",
              "2  [It, was, about, anything, something, about, m...        38212   \n",
              "3  [IN, OUR, TIME, FIESTA, MEN, WITHOUT, WOMEN, A...        67260   \n",
              "4  [ERNEST, HEMINGWAY, READERS, UNION, JONATHAN, ...        64263   \n",
              "5  [ERNEST, HEMINGWAY, CHARLES, SCRIBNER, SONS, N...        26561   \n",
              "\n",
              "   vocab count  lexical_diversity  \\\n",
              "0         4990           0.074868   \n",
              "1         3532           0.088240   \n",
              "2         4151           0.108631   \n",
              "3         5216           0.077550   \n",
              "4         5770           0.089787   \n",
              "5         2634           0.099168   \n",
              "\n",
              "                                    scores sentiment  \n",
              "0  {'neg': 0.06, 'neu': 0.835, 'pos': 0.105, 'com...  \n",
              "1  {'neg': 0.058, 'neu': 0.858, 'pos': 0.084, 'co...  \n",
              "2  {'neg': 0.089, 'neu': 0.823, 'pos': 0.088, 'co...  \n",
              "3  {'neg': 0.085, 'neu': 0.816, 'pos': 0.099, 'co...  \n",
              "4  {'neg': 0.08, 'neu': 0.782, 'pos': 0.138, 'com...  \n",
              "5  {'neg': 0.07, 'neu': 0.82, 'pos': 0.111, 'comp...  "
            ]
          },
          "execution_count": 8,
          "metadata": {},
          "output_type": "execute_result"
        }
      ]
    },
    {
      "cell_type": "markdown",
      "metadata": {
        "id": "1NGHeCH4eikR"
      },
      "source": [
        "## Sentence Level"
      ]
    },
    {
      "cell_type": "code",
      "metadata": {
        "id": "TRTJO6-peikS"
      },
      "source": [
        "def get_sents(book):\n",
        "    nlp = spacy.load(\"en_core_web_sm\")\n",
        "    doc = nlp(book)\n",
        "    sent_list = []\n",
        "    for sent in doc.sents:\n",
        "        sent_list.append(sent.text)\n",
        "    return sent_list"
      ],
      "execution_count": null,
      "outputs": []
    },
    {
      "cell_type": "code",
      "metadata": {
        "id": "Z9B5JxMPeikT",
        "outputId": "61aa8edf-8bae-4759-dbd1-a7514704f6b1"
      },
      "source": [
        "sents_1 = get_sents(book_1)\n",
        "df_1 = {'sentence': sents_1,\n",
        "        'book': 'Book_1'}\n",
        "df_1 = pd.DataFrame(df_1, columns = ['sentence', 'book'])\n",
        "len(sents_1)"
      ],
      "execution_count": null,
      "outputs": [
        {
          "data": {
            "text/plain": [
              "8622"
            ]
          },
          "execution_count": 10,
          "metadata": {},
          "output_type": "execute_result"
        }
      ]
    },
    {
      "cell_type": "code",
      "metadata": {
        "id": "jT6vggwmeikU",
        "outputId": "4569d0fe-7787-4f5c-e41a-b780b1f509ea"
      },
      "source": [
        "sents_2 = get_sents(book_2)\n",
        "df_2 = {'sentence': sents_2,\n",
        "        'book': 'Book_2'}\n",
        "df_2 = pd.DataFrame(df_2, columns = ['sentence', 'book'])\n",
        "len(sents_2)"
      ],
      "execution_count": null,
      "outputs": [
        {
          "data": {
            "text/plain": [
              "4808"
            ]
          },
          "execution_count": 11,
          "metadata": {},
          "output_type": "execute_result"
        }
      ]
    },
    {
      "cell_type": "code",
      "metadata": {
        "id": "Sg15li5feikZ",
        "outputId": "107bad4a-d3f3-45d6-8792-c8d975d1d792"
      },
      "source": [
        "sents_3 = get_sents(book_3)\n",
        "df_3 = {'sentence': sents_3,\n",
        "        'book': 'Book_3'}\n",
        "df_3 = pd.DataFrame(df_3, columns = ['sentence', 'book'])\n",
        "len(sents_3)"
      ],
      "execution_count": null,
      "outputs": [
        {
          "data": {
            "text/plain": [
              "4514"
            ]
          },
          "execution_count": 12,
          "metadata": {},
          "output_type": "execute_result"
        }
      ]
    },
    {
      "cell_type": "code",
      "metadata": {
        "id": "L2eK9-8Yeika",
        "outputId": "300011f7-7322-46bf-970a-fd0e3cedbd15"
      },
      "source": [
        "sents_4 = get_sents(book_4)\n",
        "df_4 = {'sentence': sents_4,\n",
        "        'book': 'Book_4'}\n",
        "df_4 = pd.DataFrame(df_4, columns = ['sentence', 'book'])\n",
        "len(sents_4)"
      ],
      "execution_count": null,
      "outputs": [
        {
          "data": {
            "text/plain": [
              "5678"
            ]
          },
          "execution_count": 13,
          "metadata": {},
          "output_type": "execute_result"
        }
      ]
    },
    {
      "cell_type": "code",
      "metadata": {
        "id": "fc7V433oeikb",
        "outputId": "b13a33a6-a7a0-4a1a-fd7c-6fe5c82ca170"
      },
      "source": [
        "sents_5 = get_sents(book_5)\n",
        "df_5 = {'sentence': sents_5,\n",
        "        'book': 'Book_5'}\n",
        "df_5 = pd.DataFrame(df_5, columns = ['sentence', 'book'])\n",
        "len(sents_5)"
      ],
      "execution_count": null,
      "outputs": [
        {
          "data": {
            "text/plain": [
              "6783"
            ]
          },
          "execution_count": 14,
          "metadata": {},
          "output_type": "execute_result"
        }
      ]
    },
    {
      "cell_type": "code",
      "metadata": {
        "id": "FBfY0b69eikc",
        "outputId": "7bb33714-6531-4038-cf95-6ee937ba67d5"
      },
      "source": [
        "sents_6 = get_sents(book_6)\n",
        "df_6 = {'sentence': sents_6,\n",
        "        'book': 'Book_6'}\n",
        "df_6 = pd.DataFrame(df_6, columns = ['sentence', 'book'])\n",
        "len(sents_6)"
      ],
      "execution_count": null,
      "outputs": [
        {
          "data": {
            "text/plain": [
              "2109"
            ]
          },
          "execution_count": 15,
          "metadata": {},
          "output_type": "execute_result"
        }
      ]
    },
    {
      "cell_type": "code",
      "metadata": {
        "id": "e5GDHwyzeikd",
        "outputId": "90b72011-9e7d-4836-815f-351cc3ce1c54"
      },
      "source": [
        "df_all = pd.concat([df_1, df_2, df_3, df_4, df_5, df_6]).reset_index(drop=True)\n",
        "df_all.head(10)"
      ],
      "execution_count": null,
      "outputs": [
        {
          "data": {
            "text/html": [
              "<div>\n",
              "<style scoped>\n",
              "    .dataframe tbody tr th:only-of-type {\n",
              "        vertical-align: middle;\n",
              "    }\n",
              "\n",
              "    .dataframe tbody tr th {\n",
              "        vertical-align: top;\n",
              "    }\n",
              "\n",
              "    .dataframe thead th {\n",
              "        text-align: right;\n",
              "    }\n",
              "</style>\n",
              "<table border=\"1\" class=\"dataframe\">\n",
              "  <thead>\n",
              "    <tr style=\"text-align: right;\">\n",
              "      <th></th>\n",
              "      <th>sentence</th>\n",
              "      <th>book</th>\n",
              "    </tr>\n",
              "  </thead>\n",
              "  <tbody>\n",
              "    <tr>\n",
              "      <th>0</th>\n",
              "      <td>Robert Cohn was once middleweight boxing champ...</td>\n",
              "      <td>Book_1</td>\n",
              "    </tr>\n",
              "    <tr>\n",
              "      <th>1</th>\n",
              "      <td>Do not think that I am very much impressed by ...</td>\n",
              "      <td>Book_1</td>\n",
              "    </tr>\n",
              "    <tr>\n",
              "      <th>2</th>\n",
              "      <td>He cared nothing for boxing, in fact he dislik...</td>\n",
              "      <td>Book_1</td>\n",
              "    </tr>\n",
              "    <tr>\n",
              "      <th>3</th>\n",
              "      <td>There was a certain inner comfort in knowing h...</td>\n",
              "      <td>Book_1</td>\n",
              "    </tr>\n",
              "    <tr>\n",
              "      <th>4</th>\n",
              "      <td>He was Spider Kelly's star pupil.</td>\n",
              "      <td>Book_1</td>\n",
              "    </tr>\n",
              "    <tr>\n",
              "      <th>5</th>\n",
              "      <td>Spider Kelly taught all his young gentlemen to...</td>\n",
              "      <td>Book_1</td>\n",
              "    </tr>\n",
              "    <tr>\n",
              "      <th>6</th>\n",
              "      <td>But it seemed to fit Cohn.</td>\n",
              "      <td>Book_1</td>\n",
              "    </tr>\n",
              "    <tr>\n",
              "      <th>7</th>\n",
              "      <td>He was really very fast.</td>\n",
              "      <td>Book_1</td>\n",
              "    </tr>\n",
              "    <tr>\n",
              "      <th>8</th>\n",
              "      <td>He was so good that Spider promptly overmatche...</td>\n",
              "      <td>Book_1</td>\n",
              "    </tr>\n",
              "    <tr>\n",
              "      <th>9</th>\n",
              "      <td>This increased Cohn's distaste for boxing, but...</td>\n",
              "      <td>Book_1</td>\n",
              "    </tr>\n",
              "  </tbody>\n",
              "</table>\n",
              "</div>"
            ],
            "text/plain": [
              "                                            sentence    book\n",
              "0  Robert Cohn was once middleweight boxing champ...  Book_1\n",
              "1  Do not think that I am very much impressed by ...  Book_1\n",
              "2  He cared nothing for boxing, in fact he dislik...  Book_1\n",
              "3  There was a certain inner comfort in knowing h...  Book_1\n",
              "4                  He was Spider Kelly's star pupil.  Book_1\n",
              "5  Spider Kelly taught all his young gentlemen to...  Book_1\n",
              "6                         But it seemed to fit Cohn.  Book_1\n",
              "7                           He was really very fast.  Book_1\n",
              "8  He was so good that Spider promptly overmatche...  Book_1\n",
              "9  This increased Cohn's distaste for boxing, but...  Book_1"
            ]
          },
          "execution_count": 16,
          "metadata": {},
          "output_type": "execute_result"
        }
      ]
    },
    {
      "cell_type": "code",
      "metadata": {
        "id": "zq2oJAwPeikd",
        "outputId": "ea20088b-ac96-4839-bca5-4faa63f38c33"
      },
      "source": [
        "len(sents_1)+len(sents_2)+len(sents_3)+len(sents_4)+len(sents_5)+len(sents_6)"
      ],
      "execution_count": null,
      "outputs": [
        {
          "data": {
            "text/plain": [
              "32514"
            ]
          },
          "execution_count": 17,
          "metadata": {},
          "output_type": "execute_result"
        }
      ]
    },
    {
      "cell_type": "code",
      "metadata": {
        "id": "VubGYTOYeike",
        "outputId": "0826abe7-ad32-4bc5-c1ce-903172bcdc23"
      },
      "source": [
        "df_all['token'] = df_all['sentence'].apply(word_tokenize)\\\n",
        ".apply(lambda x: [item for item in x if item.isalpha()])\n",
        "\n",
        "# after remove stopwords and stemmer\n",
        "stop = stopwords.words('english')\n",
        "porter_stemmer = PorterStemmer()\n",
        "df_all['clean token'] = df_all['token'].apply(lambda x: [item for item in x if item not in stop_words])\\\n",
        ".apply(lambda x: [porter_stemmer.stem(item) for item in x])\n",
        "df_all.head(15)"
      ],
      "execution_count": null,
      "outputs": [
        {
          "data": {
            "text/html": [
              "<div>\n",
              "<style scoped>\n",
              "    .dataframe tbody tr th:only-of-type {\n",
              "        vertical-align: middle;\n",
              "    }\n",
              "\n",
              "    .dataframe tbody tr th {\n",
              "        vertical-align: top;\n",
              "    }\n",
              "\n",
              "    .dataframe thead th {\n",
              "        text-align: right;\n",
              "    }\n",
              "</style>\n",
              "<table border=\"1\" class=\"dataframe\">\n",
              "  <thead>\n",
              "    <tr style=\"text-align: right;\">\n",
              "      <th></th>\n",
              "      <th>sentence</th>\n",
              "      <th>book</th>\n",
              "      <th>token</th>\n",
              "      <th>clean token</th>\n",
              "    </tr>\n",
              "  </thead>\n",
              "  <tbody>\n",
              "    <tr>\n",
              "      <th>0</th>\n",
              "      <td>Robert Cohn was once middleweight boxing champ...</td>\n",
              "      <td>Book_1</td>\n",
              "      <td>[Robert, Cohn, was, once, middleweight, boxing...</td>\n",
              "      <td>[robert, cohn, middleweight, box, champion, pr...</td>\n",
              "    </tr>\n",
              "    <tr>\n",
              "      <th>1</th>\n",
              "      <td>Do not think that I am very much impressed by ...</td>\n",
              "      <td>Book_1</td>\n",
              "      <td>[Do, not, think, that, I, am, very, much, impr...</td>\n",
              "      <td>[Do, think, I, much, impress, box, titl, meant...</td>\n",
              "    </tr>\n",
              "    <tr>\n",
              "      <th>2</th>\n",
              "      <td>He cared nothing for boxing, in fact he dislik...</td>\n",
              "      <td>Book_1</td>\n",
              "      <td>[He, cared, nothing, for, boxing, in, fact, he...</td>\n",
              "      <td>[He, care, noth, box, fact, dislik, learn, pai...</td>\n",
              "    </tr>\n",
              "    <tr>\n",
              "      <th>3</th>\n",
              "      <td>There was a certain inner comfort in knowing h...</td>\n",
              "      <td>Book_1</td>\n",
              "      <td>[There, was, a, certain, inner, comfort, in, k...</td>\n",
              "      <td>[there, certain, inner, comfort, know, could, ...</td>\n",
              "    </tr>\n",
              "    <tr>\n",
              "      <th>4</th>\n",
              "      <td>He was Spider Kelly's star pupil.</td>\n",
              "      <td>Book_1</td>\n",
              "      <td>[He, was, Spider, Kelly, star, pupil]</td>\n",
              "      <td>[He, spider, kelli, star, pupil]</td>\n",
              "    </tr>\n",
              "    <tr>\n",
              "      <th>5</th>\n",
              "      <td>Spider Kelly taught all his young gentlemen to...</td>\n",
              "      <td>Book_1</td>\n",
              "      <td>[Spider, Kelly, taught, all, his, young, gentl...</td>\n",
              "      <td>[spider, kelli, taught, young, gentlemen, box,...</td>\n",
              "    </tr>\n",
              "    <tr>\n",
              "      <th>6</th>\n",
              "      <td>But it seemed to fit Cohn.</td>\n",
              "      <td>Book_1</td>\n",
              "      <td>[But, it, seemed, to, fit, Cohn]</td>\n",
              "      <td>[but, seem, fit, cohn]</td>\n",
              "    </tr>\n",
              "    <tr>\n",
              "      <th>7</th>\n",
              "      <td>He was really very fast.</td>\n",
              "      <td>Book_1</td>\n",
              "      <td>[He, was, really, very, fast]</td>\n",
              "      <td>[He, realli, fast]</td>\n",
              "    </tr>\n",
              "    <tr>\n",
              "      <th>8</th>\n",
              "      <td>He was so good that Spider promptly overmatche...</td>\n",
              "      <td>Book_1</td>\n",
              "      <td>[He, was, so, good, that, Spider, promptly, ov...</td>\n",
              "      <td>[He, good, spider, promptli, overmatch, got, n...</td>\n",
              "    </tr>\n",
              "    <tr>\n",
              "      <th>9</th>\n",
              "      <td>This increased Cohn's distaste for boxing, but...</td>\n",
              "      <td>Book_1</td>\n",
              "      <td>[This, increased, Cohn, distaste, for, boxing,...</td>\n",
              "      <td>[thi, increas, cohn, distast, box, gave, certa...</td>\n",
              "    </tr>\n",
              "    <tr>\n",
              "      <th>10</th>\n",
              "      <td>In his last year at Princeton he read too much...</td>\n",
              "      <td>Book_1</td>\n",
              "      <td>[In, his, last, year, at, Princeton, he, read,...</td>\n",
              "      <td>[In, last, year, princeton, read, much, took, ...</td>\n",
              "    </tr>\n",
              "    <tr>\n",
              "      <th>11</th>\n",
              "      <td>I never met any one of his class who remembere...</td>\n",
              "      <td>Book_1</td>\n",
              "      <td>[I, never, met, any, one, of, his, class, who,...</td>\n",
              "      <td>[I, never, met, one, class, rememb]</td>\n",
              "    </tr>\n",
              "    <tr>\n",
              "      <th>12</th>\n",
              "      <td>They did not even remember that he was middlew...</td>\n",
              "      <td>Book_1</td>\n",
              "      <td>[They, did, not, even, remember, that, he, was...</td>\n",
              "      <td>[they, even, rememb, middleweight, box, champion]</td>\n",
              "    </tr>\n",
              "    <tr>\n",
              "      <th>13</th>\n",
              "      <td>I mistrust all frank and simple people, especi...</td>\n",
              "      <td>Book_1</td>\n",
              "      <td>[I, mistrust, all, frank, and, simple, people,...</td>\n",
              "      <td>[I, mistrust, frank, simpl, peopl, especi, sto...</td>\n",
              "    </tr>\n",
              "    <tr>\n",
              "      <th>14</th>\n",
              "      <td>Spider Kelly not only remembered Cohn.</td>\n",
              "      <td>Book_1</td>\n",
              "      <td>[Spider, Kelly, not, only, remembered, Cohn]</td>\n",
              "      <td>[spider, kelli, rememb, cohn]</td>\n",
              "    </tr>\n",
              "  </tbody>\n",
              "</table>\n",
              "</div>"
            ],
            "text/plain": [
              "                                             sentence    book  \\\n",
              "0   Robert Cohn was once middleweight boxing champ...  Book_1   \n",
              "1   Do not think that I am very much impressed by ...  Book_1   \n",
              "2   He cared nothing for boxing, in fact he dislik...  Book_1   \n",
              "3   There was a certain inner comfort in knowing h...  Book_1   \n",
              "4                   He was Spider Kelly's star pupil.  Book_1   \n",
              "5   Spider Kelly taught all his young gentlemen to...  Book_1   \n",
              "6                          But it seemed to fit Cohn.  Book_1   \n",
              "7                            He was really very fast.  Book_1   \n",
              "8   He was so good that Spider promptly overmatche...  Book_1   \n",
              "9   This increased Cohn's distaste for boxing, but...  Book_1   \n",
              "10  In his last year at Princeton he read too much...  Book_1   \n",
              "11  I never met any one of his class who remembere...  Book_1   \n",
              "12  They did not even remember that he was middlew...  Book_1   \n",
              "13  I mistrust all frank and simple people, especi...  Book_1   \n",
              "14             Spider Kelly not only remembered Cohn.  Book_1   \n",
              "\n",
              "                                                token  \\\n",
              "0   [Robert, Cohn, was, once, middleweight, boxing...   \n",
              "1   [Do, not, think, that, I, am, very, much, impr...   \n",
              "2   [He, cared, nothing, for, boxing, in, fact, he...   \n",
              "3   [There, was, a, certain, inner, comfort, in, k...   \n",
              "4               [He, was, Spider, Kelly, star, pupil]   \n",
              "5   [Spider, Kelly, taught, all, his, young, gentl...   \n",
              "6                    [But, it, seemed, to, fit, Cohn]   \n",
              "7                       [He, was, really, very, fast]   \n",
              "8   [He, was, so, good, that, Spider, promptly, ov...   \n",
              "9   [This, increased, Cohn, distaste, for, boxing,...   \n",
              "10  [In, his, last, year, at, Princeton, he, read,...   \n",
              "11  [I, never, met, any, one, of, his, class, who,...   \n",
              "12  [They, did, not, even, remember, that, he, was...   \n",
              "13  [I, mistrust, all, frank, and, simple, people,...   \n",
              "14       [Spider, Kelly, not, only, remembered, Cohn]   \n",
              "\n",
              "                                          clean token  \n",
              "0   [robert, cohn, middleweight, box, champion, pr...  \n",
              "1   [Do, think, I, much, impress, box, titl, meant...  \n",
              "2   [He, care, noth, box, fact, dislik, learn, pai...  \n",
              "3   [there, certain, inner, comfort, know, could, ...  \n",
              "4                    [He, spider, kelli, star, pupil]  \n",
              "5   [spider, kelli, taught, young, gentlemen, box,...  \n",
              "6                              [but, seem, fit, cohn]  \n",
              "7                                  [He, realli, fast]  \n",
              "8   [He, good, spider, promptli, overmatch, got, n...  \n",
              "9   [thi, increas, cohn, distast, box, gave, certa...  \n",
              "10  [In, last, year, princeton, read, much, took, ...  \n",
              "11                [I, never, met, one, class, rememb]  \n",
              "12  [they, even, rememb, middleweight, box, champion]  \n",
              "13  [I, mistrust, frank, simpl, peopl, especi, sto...  \n",
              "14                      [spider, kelli, rememb, cohn]  "
            ]
          },
          "execution_count": 18,
          "metadata": {},
          "output_type": "execute_result"
        }
      ]
    },
    {
      "cell_type": "markdown",
      "metadata": {
        "id": "t4TALoBLeikf"
      },
      "source": [
        "# Advanced Methods"
      ]
    },
    {
      "cell_type": "code",
      "metadata": {
        "id": "bgVYWfpjeikg",
        "outputId": "61c99b22-35b4-4e05-83f5-be218426724a"
      },
      "source": [
        "# The default regexp select tokens of 2 or more alphanumeric characters \n",
        "# And punctuation is completely ignored and always treated as a token separator\n",
        "# Use unigrams \n",
        "count_vect = CountVectorizer(stop_words='english')\n",
        "X_counts = count_vect.fit_transform(df_all.sentence)\n",
        "tfidf_transformer = TfidfTransformer()\n",
        "X_tfidf = tfidf_transformer.fit_transform(X_counts)\n",
        "print(X_tfidf.shape)"
      ],
      "execution_count": null,
      "outputs": [
        {
          "name": "stdout",
          "output_type": "stream",
          "text": [
            "(32514, 11934)\n"
          ]
        }
      ]
    },
    {
      "cell_type": "code",
      "metadata": {
        "id": "bluV_4Mteikh",
        "outputId": "13903258-9f71-402b-cd37-912eeaab662e"
      },
      "source": [
        "# for reproducibility\n",
        "random_state = 666\n",
        "cls = MiniBatchKMeans(n_clusters=6, random_state=random_state)\n",
        "cls.fit(X_tfidf)\n",
        "cls.predict(X_tfidf)"
      ],
      "execution_count": null,
      "outputs": [
        {
          "data": {
            "text/plain": [
              "array([3, 4, 3, ..., 3, 3, 3], dtype=int32)"
            ]
          },
          "execution_count": 20,
          "metadata": {},
          "output_type": "execute_result"
        }
      ]
    },
    {
      "cell_type": "code",
      "metadata": {
        "id": "s5vFaD1feiki"
      },
      "source": [
        "# reduce the features to 2D\n",
        "pca = PCA(n_components=2, random_state=random_state)\n",
        "reduced_features = pca.fit_transform(X_tfidf.toarray())\n",
        "\n",
        "# reduce the cluster centers to 2D\n",
        "reduced_cluster_centers = pca.transform(cls.cluster_centers_)"
      ],
      "execution_count": null,
      "outputs": []
    },
    {
      "cell_type": "code",
      "metadata": {
        "id": "D-S9QnKkeikj",
        "outputId": "dfbba564-6583-453e-f6e0-2d125cb3e00c"
      },
      "source": [
        "plt.scatter(reduced_features[:,0], reduced_features[:,1], c=cls.predict(X_tfidf))\n",
        "plt.scatter(reduced_cluster_centers[:, 0], reduced_cluster_centers[:,1], marker='x', s=150, c='b')"
      ],
      "execution_count": null,
      "outputs": [
        {
          "data": {
            "text/plain": [
              "<matplotlib.collections.PathCollection at 0x135495f50>"
            ]
          },
          "execution_count": 22,
          "metadata": {},
          "output_type": "execute_result"
        },
        {
          "data": {
            "image/png": "[encoded data removed]",
            "text/plain": [
              "<Figure size 432x288 with 1 Axes>"
            ]
          },
          "metadata": {
            "needs_background": "light"
          },
          "output_type": "display_data"
        }
      ]
    },
    {
      "cell_type": "code",
      "metadata": {
        "id": "jdpcWPLzeikj",
        "outputId": "aa6f7acf-8b8a-463d-d6bd-04d3aa042764"
      },
      "source": [
        "reduced_cluster_centers"
      ],
      "execution_count": null,
      "outputs": [
        {
          "data": {
            "text/plain": [
              "array([[-0.00651325, -0.01857756],\n",
              "       [ 0.04352401, -0.01766478],\n",
              "       [ 0.32995565,  0.00085598],\n",
              "       [-0.0389861 , -0.0145092 ],\n",
              "       [-0.03758645,  0.01590229],\n",
              "       [-0.0481844 , -0.07749696]])"
            ]
          },
          "execution_count": 23,
          "metadata": {},
          "output_type": "execute_result"
        }
      ]
    },
    {
      "cell_type": "code",
      "metadata": {
        "id": "_SfNs_r9eikk",
        "outputId": "7f655031-fc30-45b0-8566-d4bc07e28abe"
      },
      "source": [
        "# Evalauation with labelled dataset\n",
        "homogeneity_score(df_all.book, cls.predict(X_tfidf))"
      ],
      "execution_count": null,
      "outputs": [
        {
          "data": {
            "text/plain": [
              "0.0018017533534770147"
            ]
          },
          "execution_count": 24,
          "metadata": {},
          "output_type": "execute_result"
        }
      ]
    },
    {
      "cell_type": "code",
      "metadata": {
        "id": "1iG6hCUceikn",
        "outputId": "61987c77-32b1-414d-dd0f-aa870d2405fd"
      },
      "source": [
        "# The best value is 1 and the worst value is -1. \n",
        "# Values near 0 indicate overlapping clusters. \n",
        "silhouette_score(X_tfidf, labels=cls.predict(X_tfidf))"
      ],
      "execution_count": null,
      "outputs": [
        {
          "data": {
            "text/plain": [
              "0.028233007859249763"
            ]
          },
          "execution_count": 25,
          "metadata": {},
          "output_type": "execute_result"
        }
      ]
    },
    {
      "cell_type": "code",
      "metadata": {
        "id": "6NgqK6P6eikp"
      },
      "source": [
        ""
      ],
      "execution_count": null,
      "outputs": []
    },
    {
      "cell_type": "code",
      "metadata": {
        "id": "bLBnL9b5eiks",
        "outputId": "55480412-6e1d-4047-b34c-31cbf6caa5b0"
      },
      "source": [
        "words = count_vect.get_feature_names()\n",
        "# setup kmeans clustering\n",
        "kmeans = KMeans(n_clusters = 10, n_init = 20, n_jobs = -1, tol = 0.01, max_iter = 200)\n",
        "# fit the data \n",
        "kmeans.fit(X_tfidf)\n",
        "# this loop transforms the numbers back into words\n",
        "common_words = kmeans.cluster_centers_.argsort()[:,-1:-10:-1]\n",
        "for num, centroid in enumerate(common_words):\n",
        "    print(str(num) + ' : ' + ', '.join(words[word] for word in centroid))"
      ],
      "execution_count": null,
      "outputs": [
        {
          "name": "stdout",
          "output_type": "stream",
          "text": [
            "0 : good, like, did, right, ll, thought, come, time, came\n",
            "1 : say, did, said, things, didn, don, brett, does, good\n",
            "2 : bull, fighter, manuel, ring, fight, fighters, cape, muleta, romero\n",
            "3 : went, door, room, stairs, came, table, road, car, street\n",
            "4 : make, difference, money, doesn, sure, good, did, don, feel\n",
            "5 : man, old, said, good, fish, looked, poor, boy, thought\n",
            "6 : asked, girl, brett, colonel, pop, mike, manuel, cohn, hogan\n",
            "7 : don, know, said, think, want, like, care, talk, worry\n",
            "8 : said, colonel, pop, brett, good, right, ll, mike, girl\n",
            "9 : yes, said, oh, colonel, sir, agreed, god, says, jack\n"
          ]
        }
      ]
    },
    {
      "cell_type": "code",
      "metadata": {
        "id": "M4yn7T28eikv",
        "outputId": "13c4213f-f778-47fe-cf8e-85bd65a8eb82"
      },
      "source": [
        "#add the cluster label to the data frame\n",
        "df_all['cluster'] = kmeans.labels_\n",
        "clusters = df_all.groupby(['cluster', 'book']).size()\n",
        "fig, ax1 = plt.subplots(figsize = (26, 15))\n",
        "sns.heatmap(clusters.unstack(level = 'book'), ax = ax1, cmap = 'Reds')\n",
        "ax1.set_xlabel('book').set_size(18)\n",
        "ax1.set_ylabel('cluster').set_size(18)"
      ],
      "execution_count": null,
      "outputs": [
        {
          "data": {
            "image/png": "[encoded data removed]",
            "text/plain": [
              "<Figure size 1872x1080 with 2 Axes>"
            ]
          },
          "metadata": {
            "needs_background": "light"
          },
          "output_type": "display_data"
        }
      ]
    },
    {
      "cell_type": "code",
      "metadata": {
        "id": "_q0pFF5weiky"
      },
      "source": [
        ""
      ],
      "execution_count": null,
      "outputs": []
    }
  ]
}